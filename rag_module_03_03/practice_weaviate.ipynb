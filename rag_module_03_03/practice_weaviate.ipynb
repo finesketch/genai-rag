{
 "cells": [
  {
   "cell_type": "code",
   "execution_count": 2,
   "id": "9815f14f",
   "metadata": {},
   "outputs": [
    {
     "name": "stdout",
     "output_type": "stream",
     "text": [
      "Collections: ['Bbc_collection']\n"
     ]
    }
   ],
   "source": [
    "import weaviate\n",
    "\n",
    "# connect to an already-running local Weaviate instance\n",
    "client = weaviate.connect_to_local(port=8079, grpc_port=50050)\n",
    "\n",
    "# Quick check: list collections (matches patterns used in the notebooks)\n",
    "print(\"Collections:\", list(client.collections.list_all().keys()))"
   ]
  },
  {
   "cell_type": "code",
   "execution_count": 3,
   "id": "769d0ebb",
   "metadata": {},
   "outputs": [
    {
     "name": "stdout",
     "output_type": "stream",
     "text": [
      "Connected to Weaviate, collections: ['Bbc_collection']\n"
     ]
    },
    {
     "name": "stderr",
     "output_type": "stream",
     "text": [
      "/opt/conda/lib/python3.11/site-packages/weaviate/warnings.py:302: ResourceWarning: Con004: The connection to Weaviate was not closed properly. This can lead to memory leaks.\n",
      "            Please make sure to close the connection using `client.close()`.\n",
      "  warnings.warn(\n",
      "/tmp/ipykernel_780/88772548.py:19: ResourceWarning: unclosed <socket.socket fd=70, family=2, type=1, proto=6, laddr=('127.0.0.1', 34466), raddr=('127.0.0.1', 8079)>\n",
      "  client = connect_local_with_retry()\n",
      "ResourceWarning: Enable tracemalloc to get the object allocation traceback\n"
     ]
    }
   ],
   "source": [
    "import time\n",
    "import weaviate\n",
    "\n",
    "def connect_local_with_retry(port=8079, grpc_port=50050, retries=5, delay=2.0):\n",
    "    last_exc = None\n",
    "    for i in range(retries):\n",
    "        try:\n",
    "            client = weaviate.connect_to_local(port=port, grpc_port=grpc_port)\n",
    "            # Some clients have convenience health/is_ready helpers; if not, try a light API call:\n",
    "            # attempt to list collections — if not possible an exception will be raised\n",
    "            _ = client.collections.list_all()\n",
    "            return client\n",
    "        except Exception as e:\n",
    "            last_exc = e\n",
    "            time.sleep(delay)\n",
    "    # If we get here, all retries failed\n",
    "    raise RuntimeError(f\"Could not connect to local Weaviate after {retries} attempts\") from last_exc\n",
    "\n",
    "client = connect_local_with_retry()\n",
    "print(\"Connected to Weaviate, collections:\", list(client.collections.list_all().keys()))"
   ]
  },
  {
   "cell_type": "code",
   "execution_count": 4,
   "id": "b7cfbe6f",
   "metadata": {},
   "outputs": [],
   "source": [
    "import os\n",
    "\n",
    "os.environ[\"COLLECTIONS_PATH\"] = \"./collections\""
   ]
  },
  {
   "cell_type": "code",
   "execution_count": null,
   "id": "1651b238",
   "metadata": {},
   "outputs": [],
   "source": [
    "# in weaviate_server.py (already present in your repo)\n",
    "client = weaviate.connect_to_embedded(persistence_data_path=os.environ[\"COLLECTIONS_PATH\"], ...)"
   ]
  },
  {
   "cell_type": "code",
   "execution_count": null,
   "id": "af47ac93",
   "metadata": {},
   "outputs": [],
   "source": [
    "# create a collection only if it doesn't exist\n",
    "collection_name = \"example_collection\"\n",
    "if not client.collections.exists(collection_name):\n",
    "    # Example collection schema / config\n",
    "    client.collections.create(\n",
    "        name=collection_name,\n",
    "        vectorizer=\"text2vec-transformers\",  # example, use what's available in your server\n",
    "        vector_index_type=\"hnsw\",            # example options — follow your server modules\n",
    "        vector_index_config={\"ef\": 128}\n",
    "    )\n",
    "collection = client.collections.get(collection_name)\n",
    "\n",
    "# insert a single object (properties match what your repo uses, e.g. 'title','chunk','link','pubDate')\n",
    "properties = {\n",
    "    \"title\": \"Example\",\n",
    "    \"chunk\": \"This is a sample chunk\",\n",
    "    \"link\": \"https://example.org\",\n",
    "    \"pubDate\": \"2024-01-01\"\n",
    "}\n",
    "# Insert individual object\n",
    "collection.data.insert(properties=properties)"
   ]
  },
  {
   "cell_type": "code",
   "execution_count": 6,
   "id": "f1798574",
   "metadata": {},
   "outputs": [],
   "source": [
    "collection = client.collections.get(\"bbc_collection\")"
   ]
  },
  {
   "cell_type": "code",
   "execution_count": 8,
   "id": "b9de0a46",
   "metadata": {},
   "outputs": [
    {
     "ename": "WeaviateQueryError",
     "evalue": "Query call with protocol GRPC search failed with message explorer: get class: vectorize params: could not vectorize input for collection Bbc_collection with search-type nearText. Make sure a vectorizer module is configured for this collection.",
     "output_type": "error",
     "traceback": [
      "\u001b[31m---------------------------------------------------------------------------\u001b[39m",
      "\u001b[31m_InactiveRpcError\u001b[39m                         Traceback (most recent call last)",
      "\u001b[36mFile \u001b[39m\u001b[32m/opt/conda/lib/python3.11/site-packages/weaviate/connect/v4.py:987\u001b[39m, in \u001b[36mConnectionSync.grpc_search\u001b[39m\u001b[34m(self, request)\u001b[39m\n\u001b[32m    986\u001b[39m \u001b[38;5;28;01massert\u001b[39;00m \u001b[38;5;28mself\u001b[39m.grpc_stub \u001b[38;5;129;01mis\u001b[39;00m \u001b[38;5;129;01mnot\u001b[39;00m \u001b[38;5;28;01mNone\u001b[39;00m\n\u001b[32m--> \u001b[39m\u001b[32m987\u001b[39m res = \u001b[43m_Retry\u001b[49m\u001b[43m(\u001b[49m\u001b[32;43m4\u001b[39;49m\u001b[43m)\u001b[49m\u001b[43m.\u001b[49m\u001b[43mwith_exponential_backoff\u001b[49m\u001b[43m(\u001b[49m\n\u001b[32m    988\u001b[39m \u001b[43m    \u001b[49m\u001b[32;43m0\u001b[39;49m\u001b[43m,\u001b[49m\n\u001b[32m    989\u001b[39m \u001b[43m    \u001b[49m\u001b[33;43mf\u001b[39;49m\u001b[33;43m\"\u001b[39;49m\u001b[33;43mSearching in collection \u001b[39;49m\u001b[38;5;132;43;01m{\u001b[39;49;00m\u001b[43mrequest\u001b[49m\u001b[43m.\u001b[49m\u001b[43mcollection\u001b[49m\u001b[38;5;132;43;01m}\u001b[39;49;00m\u001b[33;43m\"\u001b[39;49m\u001b[43m,\u001b[49m\n\u001b[32m    990\u001b[39m \u001b[43m    \u001b[49m\u001b[38;5;28;43mself\u001b[39;49m\u001b[43m.\u001b[49m\u001b[43mgrpc_stub\u001b[49m\u001b[43m.\u001b[49m\u001b[43mSearch\u001b[49m\u001b[43m,\u001b[49m\n\u001b[32m    991\u001b[39m \u001b[43m    \u001b[49m\u001b[43mrequest\u001b[49m\u001b[43m,\u001b[49m\n\u001b[32m    992\u001b[39m \u001b[43m    \u001b[49m\u001b[43mmetadata\u001b[49m\u001b[43m=\u001b[49m\u001b[38;5;28;43mself\u001b[39;49m\u001b[43m.\u001b[49m\u001b[43mgrpc_headers\u001b[49m\u001b[43m(\u001b[49m\u001b[43m)\u001b[49m\u001b[43m,\u001b[49m\n\u001b[32m    993\u001b[39m \u001b[43m    \u001b[49m\u001b[43mtimeout\u001b[49m\u001b[43m=\u001b[49m\u001b[38;5;28;43mself\u001b[39;49m\u001b[43m.\u001b[49m\u001b[43mtimeout_config\u001b[49m\u001b[43m.\u001b[49m\u001b[43mquery\u001b[49m\u001b[43m,\u001b[49m\n\u001b[32m    994\u001b[39m \u001b[43m\u001b[49m\u001b[43m)\u001b[49m\n\u001b[32m    995\u001b[39m \u001b[38;5;28;01mreturn\u001b[39;00m cast(search_get_pb2.SearchReply, res)\n",
      "\u001b[36mFile \u001b[39m\u001b[32m/opt/conda/lib/python3.11/site-packages/weaviate/retry.py:54\u001b[39m, in \u001b[36m_Retry.with_exponential_backoff\u001b[39m\u001b[34m(self, count, error, f, *args, **kwargs)\u001b[39m\n\u001b[32m     53\u001b[39m \u001b[38;5;28;01mif\u001b[39;00m err.code() != StatusCode.UNAVAILABLE:\n\u001b[32m---> \u001b[39m\u001b[32m54\u001b[39m     \u001b[38;5;28;01mraise\u001b[39;00m e\n\u001b[32m     55\u001b[39m logger.info(\n\u001b[32m     56\u001b[39m     \u001b[33mf\u001b[39m\u001b[33m\"\u001b[39m\u001b[38;5;132;01m{\u001b[39;00merror\u001b[38;5;132;01m}\u001b[39;00m\u001b[33m received exception: \u001b[39m\u001b[38;5;132;01m{\u001b[39;00me\u001b[38;5;132;01m}\u001b[39;00m\u001b[33m. Retrying with exponential backoff in \u001b[39m\u001b[38;5;132;01m{\u001b[39;00m\u001b[32m2\u001b[39m**count\u001b[38;5;132;01m}\u001b[39;00m\u001b[33m seconds\u001b[39m\u001b[33m\"\u001b[39m\n\u001b[32m     57\u001b[39m )\n",
      "\u001b[36mFile \u001b[39m\u001b[32m/opt/conda/lib/python3.11/site-packages/weaviate/retry.py:50\u001b[39m, in \u001b[36m_Retry.with_exponential_backoff\u001b[39m\u001b[34m(self, count, error, f, *args, **kwargs)\u001b[39m\n\u001b[32m     49\u001b[39m \u001b[38;5;28;01mtry\u001b[39;00m:\n\u001b[32m---> \u001b[39m\u001b[32m50\u001b[39m     \u001b[38;5;28;01mreturn\u001b[39;00m \u001b[43mf\u001b[49m\u001b[43m(\u001b[49m\u001b[43m*\u001b[49m\u001b[43margs\u001b[49m\u001b[43m,\u001b[49m\u001b[43m \u001b[49m\u001b[43m*\u001b[49m\u001b[43m*\u001b[49m\u001b[43mkwargs\u001b[49m\u001b[43m)\u001b[49m\n\u001b[32m     51\u001b[39m \u001b[38;5;28;01mexcept\u001b[39;00m RpcError \u001b[38;5;28;01mas\u001b[39;00m e:\n",
      "\u001b[36mFile \u001b[39m\u001b[32m/opt/conda/lib/python3.11/site-packages/grpc/_channel.py:1178\u001b[39m, in \u001b[36m_UnaryUnaryMultiCallable.__call__\u001b[39m\u001b[34m(self, request, timeout, metadata, credentials, wait_for_ready, compression)\u001b[39m\n\u001b[32m   1175\u001b[39m state, call = \u001b[38;5;28mself\u001b[39m._blocking(\n\u001b[32m   1176\u001b[39m     request, timeout, metadata, credentials, wait_for_ready, compression\n\u001b[32m   1177\u001b[39m )\n\u001b[32m-> \u001b[39m\u001b[32m1178\u001b[39m \u001b[38;5;28;01mreturn\u001b[39;00m \u001b[43m_end_unary_response_blocking\u001b[49m\u001b[43m(\u001b[49m\u001b[43mstate\u001b[49m\u001b[43m,\u001b[49m\u001b[43m \u001b[49m\u001b[43mcall\u001b[49m\u001b[43m,\u001b[49m\u001b[43m \u001b[49m\u001b[38;5;28;43;01mFalse\u001b[39;49;00m\u001b[43m,\u001b[49m\u001b[43m \u001b[49m\u001b[38;5;28;43;01mNone\u001b[39;49;00m\u001b[43m)\u001b[49m\n",
      "\u001b[36mFile \u001b[39m\u001b[32m/opt/conda/lib/python3.11/site-packages/grpc/_channel.py:1006\u001b[39m, in \u001b[36m_end_unary_response_blocking\u001b[39m\u001b[34m(state, call, with_call, deadline)\u001b[39m\n\u001b[32m   1005\u001b[39m \u001b[38;5;28;01melse\u001b[39;00m:\n\u001b[32m-> \u001b[39m\u001b[32m1006\u001b[39m     \u001b[38;5;28;01mraise\u001b[39;00m _InactiveRpcError(state)\n",
      "\u001b[31m_InactiveRpcError\u001b[39m: <_InactiveRpcError of RPC that terminated with:\n\tstatus = StatusCode.UNKNOWN\n\tdetails = \"explorer: get class: vectorize params: could not vectorize input for collection Bbc_collection with search-type nearText. Make sure a vectorizer module is configured for this collection\"\n\tdebug_error_string = \"UNKNOWN:Error received from peer  {grpc_status:2, grpc_message:\"explorer: get class: vectorize params: could not vectorize input for collection Bbc_collection with search-type nearText. Make sure a vectorizer module is configured for this collection\"}\"\n>",
      "\nDuring handling of the above exception, another exception occurred:\n",
      "\u001b[31mWeaviateQueryError\u001b[39m                        Traceback (most recent call last)",
      "\u001b[36mCell\u001b[39m\u001b[36m \u001b[39m\u001b[32mIn[8]\u001b[39m\u001b[32m, line 4\u001b[39m\n\u001b[32m      1\u001b[39m \u001b[38;5;28;01mfrom\u001b[39;00m\u001b[38;5;250m \u001b[39m\u001b[34;01mweaviate\u001b[39;00m\u001b[34;01m.\u001b[39;00m\u001b[34;01mclasses\u001b[39;00m\u001b[34;01m.\u001b[39;00m\u001b[34;01mquery\u001b[39;00m\u001b[38;5;250m \u001b[39m\u001b[38;5;28;01mimport\u001b[39;00m Rerank, Filter\n\u001b[32m      3\u001b[39m \u001b[38;5;66;03m# semantic (near text) search\u001b[39;00m\n\u001b[32m----> \u001b[39m\u001b[32m4\u001b[39m results = \u001b[43mcollection\u001b[49m\u001b[43m.\u001b[49m\u001b[43mquery\u001b[49m\u001b[43m.\u001b[49m\u001b[43mnear_text\u001b[49m\u001b[43m(\u001b[49m\u001b[43mlimit\u001b[49m\u001b[43m=\u001b[49m\u001b[32;43m3\u001b[39;49m\u001b[43m,\u001b[49m\u001b[43m \u001b[49m\u001b[43mquery\u001b[49m\u001b[43m=\u001b[49m\u001b[33;43m\"\u001b[39;49m\u001b[33;43mTell me about Taylor Swift\u001b[39;49m\u001b[33;43m\"\u001b[39;49m\u001b[43m)\u001b[49m\n\u001b[32m      5\u001b[39m \u001b[38;5;66;03m# convert to list of property dicts (same pattern as your notebooks)\u001b[39;00m\n\u001b[32m      6\u001b[39m hits = [obj.properties \u001b[38;5;28;01mfor\u001b[39;00m obj \u001b[38;5;129;01min\u001b[39;00m results.objects]\n",
      "\u001b[36mFile \u001b[39m\u001b[32m/opt/conda/lib/python3.11/site-packages/weaviate/collections/queries/near_text/query/executor.py:424\u001b[39m, in \u001b[36m_NearTextQueryExecutor.near_text\u001b[39m\u001b[34m(self, query, certainty, distance, move_to, move_away, limit, offset, auto_limit, filters, group_by, rerank, target_vector, include_vector, return_metadata, return_properties, return_references)\u001b[39m\n\u001b[32m    391\u001b[39m     \u001b[38;5;28;01mreturn\u001b[39;00m cast(\n\u001b[32m    392\u001b[39m         Any,\n\u001b[32m    393\u001b[39m         \u001b[38;5;28mself\u001b[39m._result_to_query_or_groupby_return(\n\u001b[32m   (...)\u001b[39m\u001b[32m    404\u001b[39m         ),\n\u001b[32m    405\u001b[39m     )\n\u001b[32m    407\u001b[39m request = \u001b[38;5;28mself\u001b[39m._query.near_text(\n\u001b[32m    408\u001b[39m     near_text=query,\n\u001b[32m    409\u001b[39m     certainty=certainty,\n\u001b[32m   (...)\u001b[39m\u001b[32m    422\u001b[39m     return_references=\u001b[38;5;28mself\u001b[39m._parse_return_references(return_references),\n\u001b[32m    423\u001b[39m )\n\u001b[32m--> \u001b[39m\u001b[32m424\u001b[39m \u001b[38;5;28;01mreturn\u001b[39;00m \u001b[43mexecutor\u001b[49m\u001b[43m.\u001b[49m\u001b[43mexecute\u001b[49m\u001b[43m(\u001b[49m\n\u001b[32m    425\u001b[39m \u001b[43m    \u001b[49m\u001b[43mresponse_callback\u001b[49m\u001b[43m=\u001b[49m\u001b[43mresp\u001b[49m\u001b[43m,\u001b[49m\n\u001b[32m    426\u001b[39m \u001b[43m    \u001b[49m\u001b[43mmethod\u001b[49m\u001b[43m=\u001b[49m\u001b[38;5;28;43mself\u001b[39;49m\u001b[43m.\u001b[49m\u001b[43m_connection\u001b[49m\u001b[43m.\u001b[49m\u001b[43mgrpc_search\u001b[49m\u001b[43m,\u001b[49m\n\u001b[32m    427\u001b[39m \u001b[43m    \u001b[49m\u001b[43mrequest\u001b[49m\u001b[43m=\u001b[49m\u001b[43mrequest\u001b[49m\u001b[43m,\u001b[49m\n\u001b[32m    428\u001b[39m \u001b[43m\u001b[49m\u001b[43m)\u001b[49m\n",
      "\u001b[36mFile \u001b[39m\u001b[32m/opt/conda/lib/python3.11/site-packages/weaviate/connect/executor.py:99\u001b[39m, in \u001b[36mexecute\u001b[39m\u001b[34m(method, response_callback, exception_callback, *args, **kwargs)\u001b[39m\n\u001b[32m     97\u001b[39m     \u001b[38;5;28;01mreturn\u001b[39;00m resp_call\n\u001b[32m     98\u001b[39m \u001b[38;5;28;01mexcept\u001b[39;00m \u001b[38;5;167;01mException\u001b[39;00m \u001b[38;5;28;01mas\u001b[39;00m e:\n\u001b[32m---> \u001b[39m\u001b[32m99\u001b[39m     \u001b[38;5;28;01mreturn\u001b[39;00m cast(T, \u001b[43mexception_callback\u001b[49m\u001b[43m(\u001b[49m\u001b[43me\u001b[49m\u001b[43m)\u001b[49m)\n",
      "\u001b[36mFile \u001b[39m\u001b[32m/opt/conda/lib/python3.11/site-packages/weaviate/connect/executor.py:38\u001b[39m, in \u001b[36mraise_exception\u001b[39m\u001b[34m(e)\u001b[39m\n\u001b[32m     37\u001b[39m \u001b[38;5;28;01mdef\u001b[39;00m\u001b[38;5;250m \u001b[39m\u001b[34mraise_exception\u001b[39m(e: \u001b[38;5;167;01mException\u001b[39;00m) -> Any:\n\u001b[32m---> \u001b[39m\u001b[32m38\u001b[39m     \u001b[38;5;28;01mraise\u001b[39;00m e\n",
      "\u001b[36mFile \u001b[39m\u001b[32m/opt/conda/lib/python3.11/site-packages/weaviate/connect/executor.py:80\u001b[39m, in \u001b[36mexecute\u001b[39m\u001b[34m(method, response_callback, exception_callback, *args, **kwargs)\u001b[39m\n\u001b[32m     71\u001b[39m \u001b[38;5;28;01mdef\u001b[39;00m\u001b[38;5;250m \u001b[39m\u001b[34mexecute\u001b[39m(\n\u001b[32m     72\u001b[39m     method: SyncOrAsyncMethod[P, R],\n\u001b[32m     73\u001b[39m     response_callback: SyncOrAsyncCallback[R, T, A],\n\u001b[32m   (...)\u001b[39m\u001b[32m     77\u001b[39m ) -> Union[T, Awaitable[T], Awaitable[A]]:\n\u001b[32m     78\u001b[39m     \u001b[38;5;66;03m# wrap method call in try-except to catch exceptions for sync method\u001b[39;00m\n\u001b[32m     79\u001b[39m     \u001b[38;5;28;01mtry\u001b[39;00m:\n\u001b[32m---> \u001b[39m\u001b[32m80\u001b[39m         call = \u001b[43mmethod\u001b[49m\u001b[43m(\u001b[49m\u001b[43m*\u001b[49m\u001b[43margs\u001b[49m\u001b[43m,\u001b[49m\u001b[43m \u001b[49m\u001b[43m*\u001b[49m\u001b[43m*\u001b[49m\u001b[43mkwargs\u001b[49m\u001b[43m)\u001b[49m\n\u001b[32m     81\u001b[39m         \u001b[38;5;28;01mif\u001b[39;00m \u001b[38;5;28misinstance\u001b[39m(call, Awaitable):\n\u001b[32m     83\u001b[39m             \u001b[38;5;28;01masync\u001b[39;00m \u001b[38;5;28;01mdef\u001b[39;00m\u001b[38;5;250m \u001b[39m\u001b[34m_execute\u001b[39m() -> T:\n\u001b[32m     84\u001b[39m                 \u001b[38;5;66;03m# wrap await in try-except to catch exceptions for async method\u001b[39;00m\n",
      "\u001b[36mFile \u001b[39m\u001b[32m/opt/conda/lib/python3.11/site-packages/weaviate/connect/v4.py:1000\u001b[39m, in \u001b[36mConnectionSync.grpc_search\u001b[39m\u001b[34m(self, request)\u001b[39m\n\u001b[32m    998\u001b[39m     \u001b[38;5;28;01mif\u001b[39;00m error.code() == StatusCode.PERMISSION_DENIED:\n\u001b[32m    999\u001b[39m         \u001b[38;5;28;01mraise\u001b[39;00m InsufficientPermissionsError(error)\n\u001b[32m-> \u001b[39m\u001b[32m1000\u001b[39m     \u001b[38;5;28;01mraise\u001b[39;00m WeaviateQueryError(\u001b[38;5;28mstr\u001b[39m(error.details()), \u001b[33m\"\u001b[39m\u001b[33mGRPC search\u001b[39m\u001b[33m\"\u001b[39m)  \u001b[38;5;66;03m# pyright: ignore\u001b[39;00m\n\u001b[32m   1001\u001b[39m \u001b[38;5;28;01mexcept\u001b[39;00m WeaviateRetryError \u001b[38;5;28;01mas\u001b[39;00m e:\n\u001b[32m   1002\u001b[39m     \u001b[38;5;28;01mraise\u001b[39;00m WeaviateQueryError(\u001b[38;5;28mstr\u001b[39m(e), \u001b[33m\"\u001b[39m\u001b[33mGRPC search\u001b[39m\u001b[33m\"\u001b[39m)\n",
      "\u001b[31mWeaviateQueryError\u001b[39m: Query call with protocol GRPC search failed with message explorer: get class: vectorize params: could not vectorize input for collection Bbc_collection with search-type nearText. Make sure a vectorizer module is configured for this collection."
     ]
    }
   ],
   "source": [
    "from weaviate.classes.query import Rerank, Filter\n",
    "\n",
    "# semantic (near text) search\n",
    "results = collection.query.near_text(limit=3, query=\"Tell me about Taylor Swift\")\n",
    "# convert to list of property dicts (same pattern as your notebooks)\n",
    "hits = [obj.properties for obj in results.objects]\n",
    "for h in hits:\n",
    "    print(h['title'], \"->\", h['chunk'][:120])"
   ]
  },
  {
   "cell_type": "code",
   "execution_count": null,
   "id": "e016a70f",
   "metadata": {},
   "outputs": [],
   "source": [
    "# https://docs.weaviate.io/weaviate/quickstart/local\n",
    "\n"
   ]
  }
 ],
 "metadata": {
  "kernelspec": {
   "display_name": "base",
   "language": "python",
   "name": "python3"
  },
  "language_info": {
   "codemirror_mode": {
    "name": "ipython",
    "version": 3
   },
   "file_extension": ".py",
   "mimetype": "text/x-python",
   "name": "python",
   "nbconvert_exporter": "python",
   "pygments_lexer": "ipython3",
   "version": "3.11.13"
  }
 },
 "nbformat": 4,
 "nbformat_minor": 5
}
