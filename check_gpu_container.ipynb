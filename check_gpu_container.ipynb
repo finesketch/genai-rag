{
 "cells": [
  {
   "cell_type": "code",
   "execution_count": 1,
   "id": "f6b2d560",
   "metadata": {},
   "outputs": [
    {
     "name": "stdout",
     "output_type": "stream",
     "text": [
      "2.8.0+cu128\n",
      "True\n"
     ]
    }
   ],
   "source": [
    "# be sure to run this command in WSL\n",
    "# *******************************************************************\n",
    "# > docker build -t pytorch/pytorch:2.8.0-cuda12.9-cudnn9-runtime .\n",
    "# *******************************************************************\n",
    "\n",
    "import torch\n",
    "\n",
    "# check pytorch version\n",
    "print(torch.__version__)\n",
    "\n",
    "# Check CUDA availability\n",
    "print(torch.cuda.is_available()) # Should return True\n",
    "\n",
    "# Attempt to move a tensor to GPU\n",
    "tensor = torch.randn(1).cuda() # RuntimeError: CUDA error: no kernel image is available for execution on the device"
   ]
  }
 ],
 "metadata": {
  "kernelspec": {
   "display_name": "base",
   "language": "python",
   "name": "python3"
  },
  "language_info": {
   "codemirror_mode": {
    "name": "ipython",
    "version": 3
   },
   "file_extension": ".py",
   "mimetype": "text/x-python",
   "name": "python",
   "nbconvert_exporter": "python",
   "pygments_lexer": "ipython3",
   "version": "3.11.13"
  }
 },
 "nbformat": 4,
 "nbformat_minor": 5
}
